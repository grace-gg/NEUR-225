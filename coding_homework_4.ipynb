{
  "nbformat": 4,
  "nbformat_minor": 0,
  "metadata": {
    "colab": {
      "provenance": [],
      "include_colab_link": true
    },
    "kernelspec": {
      "name": "python3",
      "display_name": "Python 3"
    },
    "language_info": {
      "name": "python"
    }
  },
  "cells": [
    {
      "cell_type": "markdown",
      "metadata": {
        "id": "view-in-github",
        "colab_type": "text"
      },
      "source": [
        "<a href=\"https://colab.research.google.com/github/grace-gg/neur-225/blob/main/coding_homework_4.ipynb\" target=\"_parent\"><img src=\"https://colab.research.google.com/assets/colab-badge.svg\" alt=\"Open In Colab\"/></a>"
      ]
    },
    {
      "cell_type": "markdown",
      "source": [
        "# Coding Homework #4\n",
        "\n",
        "**Instructions**\n",
        "\n",
        "1. Make a *Markdown Cell* that contains the following information:\n",
        "- Your name (small header)\n",
        "- The name of this class (italicized)\n",
        "- The date (bolded)\n",
        "\n",
        "2. Create a *Code Cell* that imports relevant modules - specifically, <code>pandas as pd</code>, <code>matplotlib.pyplot as plt</code>, and <code>scipy.stats as stats</code>.\n",
        "\n",
        "3. For this assignment, you'll be using the <code>patch_seq_expanded.csv</code> file located in our class GitHub repo. Create a *Code Cell* that loads this file in as a <code>Pandas dataFrame</code> called <code>patch_seq</code>. \n",
        "\n",
        "4. In a new *Code Cell*, run the following line of code to get rid of empty values:\n",
        "\n",
        "<code>patch_seq['ISI'] = patch_seq['ISI'].fillna(0)</code>\n",
        "\n",
        "5. In a new *Code Cell*, using the <code>df.plot</code> method from the <code>pandas</code> module, make a bar graph that displays the value counts (how many observations) from the \"Marker\" column of your <code>patch_seq</code> variable. Label your x and y-axes.\n",
        "\n",
        "6. In a new *Code Cell*, repeat step 4, but make a pie chart instead of a bar graph.\n",
        "\n",
        "7. In a new *Code Cell*, use a <code>for</code> loop to make a scatter plot of the \"ISI\" (on the x-axis) and \"Fast_Trough\" (on the y-axis) values in your <code>patch_seq</code> dataframe. Your loop should make data points from \"Sst\" neurons <font color = 'red'>red</font>, and data points from \"Pvalb\" neurons <font color = 'blue'>blue</font>.\n",
        "\n",
        "8. In a new *Code Cell*, create a <code>function</code> called <code>patchScatter()</code> that will output the scatter plot created in step 6 when you call it. Don't forget to tell it to show your scatter plot!\n",
        "\n",
        "9. In a new *Code Cell*, return the mean, standard deviation, and range of the \"Fast_Trough\" column for \"Sst\" neurons and \"Pvalb\" neurons. You can do this with the <code>pandas</code> method <code>describe</code>, like so:\n",
        "\n",
        "<code>patch_seq.groupby('Marker')['Fast_Trough'].describe()</code>\n",
        "\n",
        "10. In a new *Markdown Cell*, describe the difference in means between \"Sst\" neurons and \"Pvalb\" neurons. Which group has a more negative undershoot following an action potential? \n",
        "\n",
        "11. In a new *Code Cell*, return the skewness of the \"Fast_Trough\" column for \"Sst\" neurons and \"Pvalb\" neurons. You can do this with the <code>pandas</code> method <code>skew</code> (follow the syntax in step 8 to apply this method to <code>patch_seq</code>).\n",
        "\n",
        "12. In a new *Markdown Cell*, interpret the results of your skewness test. Generally, values >0.5, or <-0.5, indicate a skewed distribution, while values between -0.5 and 0.5 indicate a normal distribution.\n",
        "\n",
        "13. In a new *Code Cell*, repeat step 10 for the \"ISI\" column of <code>patch_seq</code>. \n",
        "\n",
        "14. In a new *Markdown Cell*, repeat step 11 for the \"ISI\" column of <code>patch_seq</code>. \n",
        "\n",
        "15. Finally, in a new *Code Cell*, let's perform a t-test to see if our \"Fast_Trough\" and \"ISI\" values differ between \"Sst\" and \"Pvalb\" neurons. To do this for our \"Fast_Trough\" values, we should first isolate each group and make each of them into a separate variable. An example of how to do this for \"Sst\" neurons is below:\n",
        "\n",
        "<code>sst_neurons = patch_seq[patch_seq['Marker']=='Sst']</code>\n",
        "\n",
        "Use the same code to create another variable called <code>pvalb_neurons</code>. Once you've made your two variables, perform an independent-samples t-test to compare \"Fast_Trough\" values between the two groups:\n",
        "\n",
        "<code>stats.ttest_ind(sst_neurons['Fast_Trough'], pvalb_neurons['Fast_Trough'])</code>.\n",
        "\n",
        "16. In a *Markdown Cell*, describe the results of your t-test. Does the undershoot voltage significantly differ betwen the two groups?\n",
        "\n",
        "17. In a new *Code Cell*, repeat step 14 for \"ISI\". You won't need to create new <code>sst_neurons</code> and <code>pvalb_neurons</code> variables - you'll just need to run a new t-test. \n",
        "\n",
        "18. In a new *Markdown Cell*, repeat step 15 for the results of your new t-test.\n",
        "\n",
        "19. Make sure to put a <code>#</code> in each *Code Cell* to describe what it does.\n",
        "\n",
        "20. Save a copy of this notebook to your GitHub repo with the title <code>coding_homework_4.ipynb</code>.\n",
        "\n",
        "\n"
      ],
      "metadata": {
        "id": "t5mb_Iv37HhC"
      }
    },
    {
      "cell_type": "markdown",
      "source": [
        "###Grace Gallagher\n",
        "*Intro to Neural Data Analysis*\n",
        "**March 24th, 2023**\n",
        "\n"
      ],
      "metadata": {
        "id": "QBuQdAN7zeP8"
      }
    },
    {
      "cell_type": "code",
      "source": [
        "#Create a Code Cell that imports relevant modules - specifically, pandas as pd, matplotlib.pyplot as plt, and scipy.stats as stats.\n",
        "import pandas as pd\n",
        "import matplotlib.pyplot as plt\n",
        "import scipy.stats as stats"
      ],
      "metadata": {
        "id": "sD4py-fiz5YJ"
      },
      "execution_count": 1,
      "outputs": []
    },
    {
      "cell_type": "code",
      "source": [
        "#For this assignment, you'll be using the patch_seq_expanded.csv file located in our class GitHub repo. Create a Code Cell that loads this file in as a Pandas dataFrame called patch_seq.\n",
        "url = 'https://raw.githubusercontent.com/hallockh/neur_265/main/patch_seq_expanded.csv'\n",
        "patch_seq = pd.read_csv(url)\n",
        "patch_seq"
      ],
      "metadata": {
        "id": "wEED4wmH0GrK",
        "outputId": "a0899ceb-649d-4295-8588-98397a49e49c",
        "colab": {
          "base_uri": "https://localhost:8080/",
          "height": 424
        }
      },
      "execution_count": 2,
      "outputs": [
        {
          "output_type": "execute_result",
          "data": {
            "text/plain": [
              "           ISI  Fast_Trough Marker\n",
              "0    77.337143   -49.899998    Sst\n",
              "1    17.177895   -44.462498    Sst\n",
              "2    48.294737   -47.350002    Sst\n",
              "3     8.980000   -45.656254    Sst\n",
              "4    30.315385   -50.737499    Sst\n",
              "..         ...          ...    ...\n",
              "360  11.052333   -54.743752  Pvalb\n",
              "361   8.860360   -64.875008  Pvalb\n",
              "362   9.192897   -51.312504  Pvalb\n",
              "363  10.544731   -52.281254  Pvalb\n",
              "364  16.396364   -61.437504  Pvalb\n",
              "\n",
              "[365 rows x 3 columns]"
            ],
            "text/html": [
              "\n",
              "  <div id=\"df-8e488f5f-4c28-4bb0-a751-efc160487549\">\n",
              "    <div class=\"colab-df-container\">\n",
              "      <div>\n",
              "<style scoped>\n",
              "    .dataframe tbody tr th:only-of-type {\n",
              "        vertical-align: middle;\n",
              "    }\n",
              "\n",
              "    .dataframe tbody tr th {\n",
              "        vertical-align: top;\n",
              "    }\n",
              "\n",
              "    .dataframe thead th {\n",
              "        text-align: right;\n",
              "    }\n",
              "</style>\n",
              "<table border=\"1\" class=\"dataframe\">\n",
              "  <thead>\n",
              "    <tr style=\"text-align: right;\">\n",
              "      <th></th>\n",
              "      <th>ISI</th>\n",
              "      <th>Fast_Trough</th>\n",
              "      <th>Marker</th>\n",
              "    </tr>\n",
              "  </thead>\n",
              "  <tbody>\n",
              "    <tr>\n",
              "      <th>0</th>\n",
              "      <td>77.337143</td>\n",
              "      <td>-49.899998</td>\n",
              "      <td>Sst</td>\n",
              "    </tr>\n",
              "    <tr>\n",
              "      <th>1</th>\n",
              "      <td>17.177895</td>\n",
              "      <td>-44.462498</td>\n",
              "      <td>Sst</td>\n",
              "    </tr>\n",
              "    <tr>\n",
              "      <th>2</th>\n",
              "      <td>48.294737</td>\n",
              "      <td>-47.350002</td>\n",
              "      <td>Sst</td>\n",
              "    </tr>\n",
              "    <tr>\n",
              "      <th>3</th>\n",
              "      <td>8.980000</td>\n",
              "      <td>-45.656254</td>\n",
              "      <td>Sst</td>\n",
              "    </tr>\n",
              "    <tr>\n",
              "      <th>4</th>\n",
              "      <td>30.315385</td>\n",
              "      <td>-50.737499</td>\n",
              "      <td>Sst</td>\n",
              "    </tr>\n",
              "    <tr>\n",
              "      <th>...</th>\n",
              "      <td>...</td>\n",
              "      <td>...</td>\n",
              "      <td>...</td>\n",
              "    </tr>\n",
              "    <tr>\n",
              "      <th>360</th>\n",
              "      <td>11.052333</td>\n",
              "      <td>-54.743752</td>\n",
              "      <td>Pvalb</td>\n",
              "    </tr>\n",
              "    <tr>\n",
              "      <th>361</th>\n",
              "      <td>8.860360</td>\n",
              "      <td>-64.875008</td>\n",
              "      <td>Pvalb</td>\n",
              "    </tr>\n",
              "    <tr>\n",
              "      <th>362</th>\n",
              "      <td>9.192897</td>\n",
              "      <td>-51.312504</td>\n",
              "      <td>Pvalb</td>\n",
              "    </tr>\n",
              "    <tr>\n",
              "      <th>363</th>\n",
              "      <td>10.544731</td>\n",
              "      <td>-52.281254</td>\n",
              "      <td>Pvalb</td>\n",
              "    </tr>\n",
              "    <tr>\n",
              "      <th>364</th>\n",
              "      <td>16.396364</td>\n",
              "      <td>-61.437504</td>\n",
              "      <td>Pvalb</td>\n",
              "    </tr>\n",
              "  </tbody>\n",
              "</table>\n",
              "<p>365 rows × 3 columns</p>\n",
              "</div>\n",
              "      <button class=\"colab-df-convert\" onclick=\"convertToInteractive('df-8e488f5f-4c28-4bb0-a751-efc160487549')\"\n",
              "              title=\"Convert this dataframe to an interactive table.\"\n",
              "              style=\"display:none;\">\n",
              "        \n",
              "  <svg xmlns=\"http://www.w3.org/2000/svg\" height=\"24px\"viewBox=\"0 0 24 24\"\n",
              "       width=\"24px\">\n",
              "    <path d=\"M0 0h24v24H0V0z\" fill=\"none\"/>\n",
              "    <path d=\"M18.56 5.44l.94 2.06.94-2.06 2.06-.94-2.06-.94-.94-2.06-.94 2.06-2.06.94zm-11 1L8.5 8.5l.94-2.06 2.06-.94-2.06-.94L8.5 2.5l-.94 2.06-2.06.94zm10 10l.94 2.06.94-2.06 2.06-.94-2.06-.94-.94-2.06-.94 2.06-2.06.94z\"/><path d=\"M17.41 7.96l-1.37-1.37c-.4-.4-.92-.59-1.43-.59-.52 0-1.04.2-1.43.59L10.3 9.45l-7.72 7.72c-.78.78-.78 2.05 0 2.83L4 21.41c.39.39.9.59 1.41.59.51 0 1.02-.2 1.41-.59l7.78-7.78 2.81-2.81c.8-.78.8-2.07 0-2.86zM5.41 20L4 18.59l7.72-7.72 1.47 1.35L5.41 20z\"/>\n",
              "  </svg>\n",
              "      </button>\n",
              "      \n",
              "  <style>\n",
              "    .colab-df-container {\n",
              "      display:flex;\n",
              "      flex-wrap:wrap;\n",
              "      gap: 12px;\n",
              "    }\n",
              "\n",
              "    .colab-df-convert {\n",
              "      background-color: #E8F0FE;\n",
              "      border: none;\n",
              "      border-radius: 50%;\n",
              "      cursor: pointer;\n",
              "      display: none;\n",
              "      fill: #1967D2;\n",
              "      height: 32px;\n",
              "      padding: 0 0 0 0;\n",
              "      width: 32px;\n",
              "    }\n",
              "\n",
              "    .colab-df-convert:hover {\n",
              "      background-color: #E2EBFA;\n",
              "      box-shadow: 0px 1px 2px rgba(60, 64, 67, 0.3), 0px 1px 3px 1px rgba(60, 64, 67, 0.15);\n",
              "      fill: #174EA6;\n",
              "    }\n",
              "\n",
              "    [theme=dark] .colab-df-convert {\n",
              "      background-color: #3B4455;\n",
              "      fill: #D2E3FC;\n",
              "    }\n",
              "\n",
              "    [theme=dark] .colab-df-convert:hover {\n",
              "      background-color: #434B5C;\n",
              "      box-shadow: 0px 1px 3px 1px rgba(0, 0, 0, 0.15);\n",
              "      filter: drop-shadow(0px 1px 2px rgba(0, 0, 0, 0.3));\n",
              "      fill: #FFFFFF;\n",
              "    }\n",
              "  </style>\n",
              "\n",
              "      <script>\n",
              "        const buttonEl =\n",
              "          document.querySelector('#df-8e488f5f-4c28-4bb0-a751-efc160487549 button.colab-df-convert');\n",
              "        buttonEl.style.display =\n",
              "          google.colab.kernel.accessAllowed ? 'block' : 'none';\n",
              "\n",
              "        async function convertToInteractive(key) {\n",
              "          const element = document.querySelector('#df-8e488f5f-4c28-4bb0-a751-efc160487549');\n",
              "          const dataTable =\n",
              "            await google.colab.kernel.invokeFunction('convertToInteractive',\n",
              "                                                     [key], {});\n",
              "          if (!dataTable) return;\n",
              "\n",
              "          const docLinkHtml = 'Like what you see? Visit the ' +\n",
              "            '<a target=\"_blank\" href=https://colab.research.google.com/notebooks/data_table.ipynb>data table notebook</a>'\n",
              "            + ' to learn more about interactive tables.';\n",
              "          element.innerHTML = '';\n",
              "          dataTable['output_type'] = 'display_data';\n",
              "          await google.colab.output.renderOutput(dataTable, element);\n",
              "          const docLink = document.createElement('div');\n",
              "          docLink.innerHTML = docLinkHtml;\n",
              "          element.appendChild(docLink);\n",
              "        }\n",
              "      </script>\n",
              "    </div>\n",
              "  </div>\n",
              "  "
            ]
          },
          "metadata": {},
          "execution_count": 2
        }
      ]
    },
    {
      "cell_type": "code",
      "source": [
        "#In a new Code Cell, run the following line of code to get rid of empty values:\n",
        "\n",
        "patch_seq['ISI'] = patch_seq['ISI'].fillna(0)"
      ],
      "metadata": {
        "id": "CuE4eKBc1jO2"
      },
      "execution_count": 3,
      "outputs": []
    },
    {
      "cell_type": "code",
      "source": [
        "#In a new Code Cell, using the df.plot method from the pandas module, make a bar graph that displays the value counts (how many observations) from the \"Marker\" column of your patch_seq variable. Label your x and y-axes.\n",
        "patch_seq['Marker'].value_counts().plot(kind='bar')\n",
        "plt.xlabel('Marker')\n",
        "plt.ylabel('Counts')\n"
      ],
      "metadata": {
        "id": "lc8WmaF81sO4",
        "outputId": "788fc685-0520-4ae7-a2b8-387f02e62fa3",
        "colab": {
          "base_uri": "https://localhost:8080/",
          "height": 314
        }
      },
      "execution_count": 9,
      "outputs": [
        {
          "output_type": "execute_result",
          "data": {
            "text/plain": [
              "Text(0, 0.5, 'Counts')"
            ]
          },
          "metadata": {},
          "execution_count": 9
        },
        {
          "output_type": "display_data",
          "data": {
            "text/plain": [
              "<Figure size 432x288 with 1 Axes>"
            ],
            "image/png": "[encoded data removed]"
          },
          "metadata": {
            "needs_background": "light"
          }
        }
      ]
    },
    {
      "cell_type": "code",
      "source": [
        "#In a new Code Cell, repeat step 4, but make a pie chart instead of a bar graph.\n",
        "patch_seq['Marker'].value_counts().plot(kind='pie')\n",
        "plt.xlabel('Marker')\n",
        "plt.ylabel('Counts')"
      ],
      "metadata": {
        "id": "_jFEnM1-Io-g",
        "outputId": "833e22d8-0b74-4a50-c096-ef3f0135a4e8",
        "colab": {
          "base_uri": "https://localhost:8080/",
          "height": 280
        }
      },
      "execution_count": 10,
      "outputs": [
        {
          "output_type": "execute_result",
          "data": {
            "text/plain": [
              "Text(0, 0.5, 'Counts')"
            ]
          },
          "metadata": {},
          "execution_count": 10
        },
        {
          "output_type": "display_data",
          "data": {
            "text/plain": [
              "<Figure size 432x288 with 1 Axes>"
            ],
            "image/png": "[encoded data removed]"
          },
          "metadata": {}
        }
      ]
    },
    {
      "cell_type": "code",
      "source": [
        "#In a new Code Cell, use a for loop to make a scatter plot of the \"ISI\" (on the x-axis) and \"Fast_Trough\" (on the y-axis) values in your patch_seq dataframe. Your loop should make data points from \"Sst\" neurons red, and data points from \"Pvalb\" neurons blue.\n",
        "patch_length = len(patch_seq)\n",
        "\n",
        "for i in range(patch_length):\n",
        "  if patch_seq.iloc[i,2] == 'Sst':\n",
        "    plt.scatter(patch_seq.iloc[i,0],patch_seq.iloc[i,1],color='red')\n",
        "  if patch_seq.iloc[i,2] == 'Pvalb':\n",
        "    plt.scatter(patch_seq.iloc[i,0],patch_seq.iloc[i,1],color='blue')\n",
        "  plt.xlabel('ISI')\n",
        "  plt.ylabel('Fast-Trough')"
      ],
      "metadata": {
        "id": "Gki61ONVIzk2",
        "outputId": "87552e20-220b-48cf-c9f5-d6d20fb00d18",
        "colab": {
          "base_uri": "https://localhost:8080/",
          "height": 279
        }
      },
      "execution_count": 12,
      "outputs": [
        {
          "output_type": "display_data",
          "data": {
            "text/plain": [
              "<Figure size 432x288 with 1 Axes>"
            ],
            "image/png": "[encoded data removed]"
          },
          "metadata": {
            "needs_background": "light"
          }
        }
      ]
    },
    {
      "cell_type": "code",
      "source": [
        "#In a new Code Cell, create a function called patchScatter() that will output the scatter plot created in step 6 when you call it. Don't forget to tell it to show your scatter plot!\n",
        "def patchScatter():\n",
        "  patch_length = len(patch_seq)\n",
        "\n",
        "  for i in range(patch_length):\n",
        "    if patch_seq.iloc[i,2] == 'Sst':\n",
        "      plt.scatter(patch_seq.iloc[i,0],patch_seq.iloc[i,1],color='red')\n",
        "    if patch_seq.iloc[i,2] == 'Pvalb':\n",
        "      plt.scatter(patch_seq.iloc[i,0],patch_seq.iloc[i,1],color='blue')\n",
        "    plt.xlabel('ISI')\n",
        "    plt.ylabel('Fast-Trough')\n",
        "\n",
        "  plt.show()\n",
        "\n",
        "patchScatter()\n"
      ],
      "metadata": {
        "id": "yvk__D2Be76M",
        "outputId": "12cf1c0c-b324-4470-eca6-429040d374b9",
        "colab": {
          "base_uri": "https://localhost:8080/",
          "height": 279
        }
      },
      "execution_count": 14,
      "outputs": [
        {
          "output_type": "display_data",
          "data": {
            "text/plain": [
              "<Figure size 432x288 with 1 Axes>"
            ],
            "image/png": "[encoded data removed]"
          },
          "metadata": {
            "needs_background": "light"
          }
        }
      ]
    },
    {
      "cell_type": "code",
      "source": [
        "#In a new Code Cell, return the mean, standard deviation, and range of the \"Fast_Trough\" column for \"Sst\" neurons and \"Pvalb\" neurons. You can do this with the pandas method describe, like so:\n",
        "\n",
        "patch_seq.groupby('Marker')['Fast_Trough'].describe()"
      ],
      "metadata": {
        "id": "173zGbmifW6z",
        "outputId": "9d153607-0d70-4094-b882-9c5868382aa1",
        "colab": {
          "base_uri": "https://localhost:8080/",
          "height": 143
        }
      },
      "execution_count": 15,
      "outputs": [
        {
          "output_type": "execute_result",
          "data": {
            "text/plain": [
              "        count       mean       std        min        25%        50%  \\\n",
              "Marker                                                                \n",
              "Pvalb   256.0 -54.548074  5.870670 -76.687508 -57.914063 -54.490629   \n",
              "Sst     109.0 -52.514968  4.958103 -64.375008 -55.931252 -52.568752   \n",
              "\n",
              "              75%        max  \n",
              "Marker                        \n",
              "Pvalb  -51.364065 -30.406252  \n",
              "Sst    -48.500000 -40.781254  "
            ],
            "text/html": [
              "\n",
              "  <div id=\"df-62ab3d32-2b99-4493-9bdc-a5cac0c28200\">\n",
              "    <div class=\"colab-df-container\">\n",
              "      <div>\n",
              "<style scoped>\n",
              "    .dataframe tbody tr th:only-of-type {\n",
              "        vertical-align: middle;\n",
              "    }\n",
              "\n",
              "    .dataframe tbody tr th {\n",
              "        vertical-align: top;\n",
              "    }\n",
              "\n",
              "    .dataframe thead th {\n",
              "        text-align: right;\n",
              "    }\n",
              "</style>\n",
              "<table border=\"1\" class=\"dataframe\">\n",
              "  <thead>\n",
              "    <tr style=\"text-align: right;\">\n",
              "      <th></th>\n",
              "      <th>count</th>\n",
              "      <th>mean</th>\n",
              "      <th>std</th>\n",
              "      <th>min</th>\n",
              "      <th>25%</th>\n",
              "      <th>50%</th>\n",
              "      <th>75%</th>\n",
              "      <th>max</th>\n",
              "    </tr>\n",
              "    <tr>\n",
              "      <th>Marker</th>\n",
              "      <th></th>\n",
              "      <th></th>\n",
              "      <th></th>\n",
              "      <th></th>\n",
              "      <th></th>\n",
              "      <th></th>\n",
              "      <th></th>\n",
              "      <th></th>\n",
              "    </tr>\n",
              "  </thead>\n",
              "  <tbody>\n",
              "    <tr>\n",
              "      <th>Pvalb</th>\n",
              "      <td>256.0</td>\n",
              "      <td>-54.548074</td>\n",
              "      <td>5.870670</td>\n",
              "      <td>-76.687508</td>\n",
              "      <td>-57.914063</td>\n",
              "      <td>-54.490629</td>\n",
              "      <td>-51.364065</td>\n",
              "      <td>-30.406252</td>\n",
              "    </tr>\n",
              "    <tr>\n",
              "      <th>Sst</th>\n",
              "      <td>109.0</td>\n",
              "      <td>-52.514968</td>\n",
              "      <td>4.958103</td>\n",
              "      <td>-64.375008</td>\n",
              "      <td>-55.931252</td>\n",
              "      <td>-52.568752</td>\n",
              "      <td>-48.500000</td>\n",
              "      <td>-40.781254</td>\n",
              "    </tr>\n",
              "  </tbody>\n",
              "</table>\n",
              "</div>\n",
              "      <button class=\"colab-df-convert\" onclick=\"convertToInteractive('df-62ab3d32-2b99-4493-9bdc-a5cac0c28200')\"\n",
              "              title=\"Convert this dataframe to an interactive table.\"\n",
              "              style=\"display:none;\">\n",
              "        \n",
              "  <svg xmlns=\"http://www.w3.org/2000/svg\" height=\"24px\"viewBox=\"0 0 24 24\"\n",
              "       width=\"24px\">\n",
              "    <path d=\"M0 0h24v24H0V0z\" fill=\"none\"/>\n",
              "    <path d=\"M18.56 5.44l.94 2.06.94-2.06 2.06-.94-2.06-.94-.94-2.06-.94 2.06-2.06.94zm-11 1L8.5 8.5l.94-2.06 2.06-.94-2.06-.94L8.5 2.5l-.94 2.06-2.06.94zm10 10l.94 2.06.94-2.06 2.06-.94-2.06-.94-.94-2.06-.94 2.06-2.06.94z\"/><path d=\"M17.41 7.96l-1.37-1.37c-.4-.4-.92-.59-1.43-.59-.52 0-1.04.2-1.43.59L10.3 9.45l-7.72 7.72c-.78.78-.78 2.05 0 2.83L4 21.41c.39.39.9.59 1.41.59.51 0 1.02-.2 1.41-.59l7.78-7.78 2.81-2.81c.8-.78.8-2.07 0-2.86zM5.41 20L4 18.59l7.72-7.72 1.47 1.35L5.41 20z\"/>\n",
              "  </svg>\n",
              "      </button>\n",
              "      \n",
              "  <style>\n",
              "    .colab-df-container {\n",
              "      display:flex;\n",
              "      flex-wrap:wrap;\n",
              "      gap: 12px;\n",
              "    }\n",
              "\n",
              "    .colab-df-convert {\n",
              "      background-color: #E8F0FE;\n",
              "      border: none;\n",
              "      border-radius: 50%;\n",
              "      cursor: pointer;\n",
              "      display: none;\n",
              "      fill: #1967D2;\n",
              "      height: 32px;\n",
              "      padding: 0 0 0 0;\n",
              "      width: 32px;\n",
              "    }\n",
              "\n",
              "    .colab-df-convert:hover {\n",
              "      background-color: #E2EBFA;\n",
              "      box-shadow: 0px 1px 2px rgba(60, 64, 67, 0.3), 0px 1px 3px 1px rgba(60, 64, 67, 0.15);\n",
              "      fill: #174EA6;\n",
              "    }\n",
              "\n",
              "    [theme=dark] .colab-df-convert {\n",
              "      background-color: #3B4455;\n",
              "      fill: #D2E3FC;\n",
              "    }\n",
              "\n",
              "    [theme=dark] .colab-df-convert:hover {\n",
              "      background-color: #434B5C;\n",
              "      box-shadow: 0px 1px 3px 1px rgba(0, 0, 0, 0.15);\n",
              "      filter: drop-shadow(0px 1px 2px rgba(0, 0, 0, 0.3));\n",
              "      fill: #FFFFFF;\n",
              "    }\n",
              "  </style>\n",
              "\n",
              "      <script>\n",
              "        const buttonEl =\n",
              "          document.querySelector('#df-62ab3d32-2b99-4493-9bdc-a5cac0c28200 button.colab-df-convert');\n",
              "        buttonEl.style.display =\n",
              "          google.colab.kernel.accessAllowed ? 'block' : 'none';\n",
              "\n",
              "        async function convertToInteractive(key) {\n",
              "          const element = document.querySelector('#df-62ab3d32-2b99-4493-9bdc-a5cac0c28200');\n",
              "          const dataTable =\n",
              "            await google.colab.kernel.invokeFunction('convertToInteractive',\n",
              "                                                     [key], {});\n",
              "          if (!dataTable) return;\n",
              "\n",
              "          const docLinkHtml = 'Like what you see? Visit the ' +\n",
              "            '<a target=\"_blank\" href=https://colab.research.google.com/notebooks/data_table.ipynb>data table notebook</a>'\n",
              "            + ' to learn more about interactive tables.';\n",
              "          element.innerHTML = '';\n",
              "          dataTable['output_type'] = 'display_data';\n",
              "          await google.colab.output.renderOutput(dataTable, element);\n",
              "          const docLink = document.createElement('div');\n",
              "          docLink.innerHTML = docLinkHtml;\n",
              "          element.appendChild(docLink);\n",
              "        }\n",
              "      </script>\n",
              "    </div>\n",
              "  </div>\n",
              "  "
            ]
          },
          "metadata": {},
          "execution_count": 15
        }
      ]
    },
    {
      "cell_type": "markdown",
      "source": [
        "Describe the difference in means between \"Sst\" neurons and \"Pvalb\" neurons. Which group has a more negative undershoot following an action potential?\n",
        "\n",
        "The \"Pvalb\" neurons have a slightly more negative mean than the \"Sst\" neurons but perhaps not enough of a difference to be significant. Thus, \"Pvalb\" neurons have a more negative undershoot following an action potential based on the mean and also the minimum value of -76.69. "
      ],
      "metadata": {
        "id": "RrG16Glafiij"
      }
    },
    {
      "cell_type": "code",
      "source": [
        "#In a new Code Cell, return the skewness of the \"Fast_Trough\" column for \"Sst\" neurons and \"Pvalb\" neurons. You can do this with the pandas method skew (follow the syntax in step 8 to apply this method to patch_seq).\n",
        "patch_seq.groupby('Marker')['Fast_Trough'].skew()"
      ],
      "metadata": {
        "id": "2i7hgQWmg3UB",
        "outputId": "dcc69184-f140-4199-b45b-4934936adcfe",
        "colab": {
          "base_uri": "https://localhost:8080/"
        }
      },
      "execution_count": 55,
      "outputs": [
        {
          "output_type": "execute_result",
          "data": {
            "text/plain": [
              "Marker\n",
              "Pvalb    0.19536\n",
              "Sst      0.00125\n",
              "Name: Fast_Trough, dtype: float64"
            ]
          },
          "metadata": {},
          "execution_count": 55
        }
      ]
    },
    {
      "cell_type": "markdown",
      "source": [
        "In a new Markdown Cell, interpret the results of your skewness test. Generally, values >0.5, or <-0.5, indicate a skewed distribution, while values between -0.5 and 0.5 indicate a normal distribution.\n",
        "\n",
        "The Pvalb and Sst neurons both have skewness values between -0.5 and 0.5, thus, there is likely no skewness and the data represents a normal distribution for the Fast Trough column."
      ],
      "metadata": {
        "id": "4aOLWd4SP4Zm"
      }
    },
    {
      "cell_type": "code",
      "source": [
        "#In a new Code Cell, repeat step 10 for the \"ISI\" column of patch_seq.\n",
        "patch_seq.groupby('Marker')['ISI'].skew()"
      ],
      "metadata": {
        "id": "YaaqqsePP4KO",
        "outputId": "89caa3b0-0b9e-48d2-ece6-2f2bb3883f9b",
        "colab": {
          "base_uri": "https://localhost:8080/"
        }
      },
      "execution_count": 57,
      "outputs": [
        {
          "output_type": "execute_result",
          "data": {
            "text/plain": [
              "Marker\n",
              "Pvalb    5.200362\n",
              "Sst      1.857850\n",
              "Name: ISI, dtype: float64"
            ]
          },
          "metadata": {},
          "execution_count": 57
        }
      ]
    },
    {
      "cell_type": "markdown",
      "source": [
        "In a new Markdown Cell, repeat step 11 for the \"ISI\" column of patch_seq.\n",
        "\n",
        "Both Pvalb and Sst neurons have skewness values greater than 0.5 so the distribution is skewed and not normal for the ISI column of the data"
      ],
      "metadata": {
        "id": "Td2R7cMPRPCl"
      }
    },
    {
      "cell_type": "code",
      "source": [
        "#Finally, in a new Code Cell, let's perform a t-test to see if our \"Fast_Trough\" and \"ISI\" values differ between \"Sst\" and \"Pvalb\" neurons. To do this for our \"Fast_Trough\" values, we should first isolate each group and make each of them into a separate variable. An example of how to do this for \"Sst\" neurons is below:\n",
        "\n",
        "sst_neurons = patch_seq[patch_seq['Marker']=='Sst']\n",
        "\n",
        "#Use the same code to create another variable called pvalb_neurons. Once you've made your two variables, perform an independent-samples t-test to compare \"Fast_Trough\" values between the two groups:\n",
        "\n",
        "pvalb_neurons = patch_seq[patch_seq['Marker']=='Pvalb']\n",
        "stats.ttest_ind(sst_neurons['Fast_Trough'], pvalb_neurons['Fast_Trough'])"
      ],
      "metadata": {
        "id": "xRORPt3hRkyw",
        "outputId": "094cdf2d-9b3c-45aa-d6f4-2de2bb550b88",
        "colab": {
          "base_uri": "https://localhost:8080/"
        }
      },
      "execution_count": 59,
      "outputs": [
        {
          "output_type": "execute_result",
          "data": {
            "text/plain": [
              "Ttest_indResult(statistic=3.1660773376899147, pvalue=0.0016757984214133585)"
            ]
          },
          "metadata": {},
          "execution_count": 59
        }
      ]
    },
    {
      "cell_type": "markdown",
      "source": [
        "In a Markdown Cell, describe the results of your t-test. Does the undershoot voltage significantly differ betwen the two groups?\n",
        "\n",
        "Since the pvalue is less than 0.05, the result is significantly significant and so the undershoot voltage does significantly differ between Sst and Pvalb neurons."
      ],
      "metadata": {
        "id": "0cayiOR1R_IJ"
      }
    },
    {
      "cell_type": "code",
      "source": [
        "#In a new Code Cell, repeat step 14 for \"ISI\". You won't need to create new sst_neurons and pvalb_neurons variables - you'll just need to run a new t-test.\n",
        "stats.ttest_ind(sst_neurons['ISI'], pvalb_neurons['ISI'])"
      ],
      "metadata": {
        "id": "CQV1FTGhWO_K",
        "outputId": "c47b6822-874d-41fa-e29d-7a21a42f3dbb",
        "colab": {
          "base_uri": "https://localhost:8080/"
        }
      },
      "execution_count": 60,
      "outputs": [
        {
          "output_type": "execute_result",
          "data": {
            "text/plain": [
              "Ttest_indResult(statistic=15.004913280678535, pvalue=6.160372584319923e-40)"
            ]
          },
          "metadata": {},
          "execution_count": 60
        }
      ]
    },
    {
      "cell_type": "markdown",
      "source": [
        "In a new Markdown Cell, repeat step 15 for the results of your new t-test.\n",
        "\n",
        "The results of this t-test show that the ISI does not significantly differ between Pvalb and Sst neurons because the pvalue is greater than 0.05."
      ],
      "metadata": {
        "id": "x3IAucRdWe2v"
      }
    }
  ]
}