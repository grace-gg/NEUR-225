{
  "nbformat": 4,
  "nbformat_minor": 0,
  "metadata": {
    "colab": {
      "provenance": [],
      "include_colab_link": true
    },
    "kernelspec": {
      "name": "python3",
      "display_name": "Python 3"
    },
    "language_info": {
      "name": "python"
    }
  },
  "cells": [
    {
      "cell_type": "markdown",
      "metadata": {
        "id": "view-in-github",
        "colab_type": "text"
      },
      "source": [
        "<a href=\"https://colab.research.google.com/github/grace-gg/neur-225/blob/main/coding_homework_1.ipynb\" target=\"_parent\"><img src=\"https://colab.research.google.com/assets/colab-badge.svg\" alt=\"Open In Colab\"/></a>"
      ]
    },
    {
      "cell_type": "markdown",
      "source": [
        "# Coding Homework #1\n",
        "\n",
        "**Instructions** (Note: it is very important you follow these instructions in order!)\n",
        "\n",
        "1. Run the first *Code Cell* below.\n",
        "\n",
        "2. Make a *Markdown Cell* that contains the following information:\n",
        "  * Your name (small header)\n",
        "  * The name of this class (italicized)\n",
        "  * The date (bolded)\n",
        "\n",
        "3. **Important!**: For each *Code Cell* that you create, make at least one line of code with a `#` in front of it that describes what your code does.\n",
        "\n",
        "4. Make a *Code Cell* that turns `v_rest1.csv` into a `Pandas DataFrame` called `pandas_data1`, and `v_rest2.csv` into a `Pandas DataFrame` called `pandas_data2`. Recall that we covered how to import `.csv` files as `Pandas DataFrames` in our in-class coding activity on January 30th. \n",
        "\n",
        "5. Make a *Code Cell* that converts `pandas_data1` into a `list` variable called `data1`, and converts `pandas_data2` into a `list` variable called `data2`. The following syntax is an example of how to do this:\n",
        "\n",
        "\n",
        "```\n",
        "data1 = pandas_data1.values.tolist()\n",
        "```\n",
        "\n",
        "6. When you convert a `Pandas DataFrame` into a `list`, it brackets each individual element - we don't want that! To get around this issue, make a *Code Cell* that flattens `data1` and `data2` using the `numpy.squeeze()` function. Your first *Code Cell* imported the `NumPy` module as `np`, so we can use the following code to flatten `data1`:\n",
        "\n",
        "\n",
        "```\n",
        "data1 = np.squeeze(data1)\n",
        "```\n",
        "&nbsp;&nbsp;&nbsp;&nbsp;&nbsp;&nbsp;&nbsp;&nbsp;&nbsp;&nbsp;Repeat this for `data2`.\n",
        "\n",
        "7. Make a *Code Cell* that prints the length of `data1`.\n",
        "\n",
        "8. Make a *Code Cell* that prints the 5th, 6th, 7th, and 8th elements of `data2`.\n",
        "\n",
        "9. Make a *Code Cell* that prints the second-to-last and last elements of `data1` (use negative indexing).\n",
        "\n",
        "10. Make a *Code Cell* that prints the `type` of `data2` by using the `type` function.\n",
        "\n",
        "11. The first *Code Cell* you ran imports a module called `matplotlib`. In a new *Code Cell*, use `matplotlib` to make a histogram of `data1`. You can use the syntax `plt.hist()` to do this (remember that the variable you are applying the function to goes inside of the parentheses). \n",
        "\n",
        "12. In a new *Code Cell*, re-make your histogram and use the `plt.xlabel()` and `plt.ylabel()` functions to label your axes.\n",
        "\n",
        "13. In a new *Code Cell*, follow the instructions in steps 11 and 12 to make another histogram with axis labels for `data2`. \n",
        "\n",
        "14. In a new *Markdown Cell*, write a brief description of any differences that you observe between your two histograms. Does one group of cells seem to have a higher/lower resting membrane potential than the other group of cells?\n",
        "\n",
        "15. In a new *Code Cell*, create a new variable called `data3`. Let `data3` be a list containing both `data1` and `data2`. \n",
        "\n",
        "16. Make a *Code Cell* that prints the last element of `data2`. You must index `data3` to do this (hint: we covered this in our in-class coding activity on February 1st).\n",
        "\n",
        "17. Save a copy of this notebook to your GitHub repo with the title \"coding_homework_1.pynb\". "
      ],
      "metadata": {
        "id": "R8xCV2iP1KZ_"
      }
    },
    {
      "cell_type": "code",
      "source": [
        "# Import matplotlib, pandas, and numpy\n",
        "\n",
        "from matplotlib import pyplot as plt\n",
        "\n",
        "import pandas as pd\n",
        "\n",
        "import numpy as np"
      ],
      "metadata": {
        "id": "48IPWJIt59-Y"
      },
      "execution_count": 3,
      "outputs": []
    },
    {
      "cell_type": "markdown",
      "source": [
        "##Grace Gallagher\n",
        "* *Intro to Neural Data Analysis*\n",
        "* **February 8th, 2023**\n",
        "\n",
        "\n",
        "\n",
        "\n"
      ],
      "metadata": {
        "id": "F5cOUy__E_AA"
      }
    },
    {
      "cell_type": "code",
      "source": [
        "#turns v_rest1.csv into a Pandas DataFrame called pandas_data1, and v_rest2.csv into a Pandas DataFrame called pandas_data2. \n",
        "#Recall that we covered how to import .csv files as Pandas DataFrames in our in-class coding activity on January 30th.\n",
        "try:\n",
        "    import pandas as pandas_data1\n",
        "    print('pandas already installed')\n",
        "except ImportError as e:\n",
        "    !pip install pandas\n",
        "df1 = pandas_data1.read_csv('https://raw.githubusercontent.com/grace-gg/neur-225/main/vrest_1.csv')\n",
        "print(df1)\n",
        "\n",
        "\n",
        "try:\n",
        "    import pandas as pandas_data2\n",
        "    print('pandas already installed')\n",
        "except ImportError as e:\n",
        "    !pip install pandas\n",
        "df2 = pandas_data2.read_csv('https://raw.githubusercontent.com/grace-gg/neur-225/main/vrest_2.csv')\n",
        "print(df2)\n"
      ],
      "metadata": {
        "id": "XPJtRTjrGi3b",
        "outputId": "973c12af-b4cc-421b-a0ce-48fc77986eaf",
        "colab": {
          "base_uri": "https://localhost:8080/"
        }
      },
      "execution_count": 4,
      "outputs": [
        {
          "output_type": "stream",
          "name": "stdout",
          "text": [
            "pandas already installed\n",
            "    -57.68096993\n",
            "0     -75.608385\n",
            "1     -72.853356\n",
            "2     -63.322316\n",
            "3     -69.176684\n",
            "4     -70.064438\n",
            "5     -74.911435\n",
            "6     -62.622935\n",
            "7     -72.896283\n",
            "8     -69.022695\n",
            "9     -70.221816\n",
            "10    -78.644935\n",
            "11    -61.944954\n",
            "pandas already installed\n",
            "    -73.6365153\n",
            "0    -51.512502\n",
            "1    -71.968765\n",
            "2    -71.228924\n",
            "3    -68.246586\n",
            "4    -80.800008\n",
            "5    -68.836941\n",
            "6    -73.387593\n",
            "7    -70.103684\n",
            "8    -65.166296\n",
            "9    -70.832404\n",
            "10   -71.874792\n",
            "11   -76.594445\n"
          ]
        }
      ]
    },
    {
      "cell_type": "code",
      "source": [
        "#Make a Code Cell that converts pandas_data1 into a list variable called data1, and converts pandas_data2 into a list variable called data2. \n",
        "data1 = df1.values.tolist()\n",
        "data1 = np.squeeze(data1)\n",
        "print(data1)\n",
        "data2 = df2.values.tolist()\n",
        "data2 = np.squeeze(data2)\n",
        "print(data2)\n"
      ],
      "metadata": {
        "id": "3Cl8spN2K9AU",
        "outputId": "84177bd9-3800-4bf9-ceed-06682a810dd6",
        "colab": {
          "base_uri": "https://localhost:8080/"
        }
      },
      "execution_count": 5,
      "outputs": [
        {
          "output_type": "stream",
          "name": "stdout",
          "text": [
            "[-75.60838509 -72.85335626 -63.32231649 -69.17668438 -70.06443787\n",
            " -74.9114346  -62.62293472 -72.89628315 -69.02269516 -70.22181625\n",
            " -78.64493513 -61.94495392]\n",
            "[-51.51250197 -71.96876467 -71.22892422 -68.24658585 -80.80000814\n",
            " -68.83694058 -73.38759257 -70.10368432 -65.16629601 -70.8324037\n",
            " -71.87479225 -76.59444523]\n"
          ]
        }
      ]
    },
    {
      "cell_type": "code",
      "source": [
        "#Make a Code Cell that prints the length of data1.\n",
        "len(data1)\n",
        "data1"
      ],
      "metadata": {
        "id": "VwzGhN1lU3Wc",
        "outputId": "c5b296eb-f923-4a25-ac99-d1040d258627",
        "colab": {
          "base_uri": "https://localhost:8080/"
        }
      },
      "execution_count": 20,
      "outputs": [
        {
          "output_type": "execute_result",
          "data": {
            "text/plain": [
              "array([-75.60838509, -72.85335626, -63.32231649, -69.17668438,\n",
              "       -70.06443787, -74.9114346 , -62.62293472, -72.89628315,\n",
              "       -69.02269516, -70.22181625, -78.64493513, -61.94495392])"
            ]
          },
          "metadata": {},
          "execution_count": 20
        }
      ]
    },
    {
      "cell_type": "code",
      "source": [
        "#Make a Code Cell that prints the 5th, 6th, 7th, and 8th elements of data2\n",
        "data2 = [-73.6365153, -51.51250197, -71.96876467, -71.22892422, -68.24658585, -80.80000814, -68.83694058, -73.38759257, -70.10368432, -65.16629601, -70.8324037, -71.87479225, -76.59444523]\n",
        "data2=data2[4:8]\n",
        "print(data2)"
      ],
      "metadata": {
        "id": "o6nMCQNQU5Zn",
        "outputId": "c0389563-f10f-4687-96e0-55d5ecf502f2",
        "colab": {
          "base_uri": "https://localhost:8080/"
        }
      },
      "execution_count": 19,
      "outputs": [
        {
          "output_type": "stream",
          "name": "stdout",
          "text": [
            "[-68.24658585, -80.80000814, -68.83694058, -73.38759257]\n"
          ]
        }
      ]
    },
    {
      "cell_type": "code",
      "source": [
        "#Make a Code Cell that prints the second-to-last and last elements of data1 (use negative indexing).\n",
        "data1 = [-57.68096993, -75.60838509, -72.85335626, -63.32231649, -69.17668438, -70.06443787, -74.9114346, -62.62293472, -72.89628315, -69.02269516, -70.22181625, -78.64493513, -61.94495392]\n",
        "data1=data1[-2]\n",
        "print(data1)"
      ],
      "metadata": {
        "id": "imHUGve8Vqrx",
        "outputId": "a260c8f3-f568-49ff-cd0e-1a40519b6b7b",
        "colab": {
          "base_uri": "https://localhost:8080/"
        }
      },
      "execution_count": 38,
      "outputs": [
        {
          "output_type": "stream",
          "name": "stdout",
          "text": [
            "-78.64493513\n"
          ]
        }
      ]
    },
    {
      "cell_type": "code",
      "source": [
        "#Make a Code Cell that prints the type of data2 by using the type function.\n",
        "print(type(data2))"
      ],
      "metadata": {
        "id": "qqtToTcma7tO",
        "outputId": "069441bf-5748-4df2-9cbf-c7b5ab979bb0",
        "colab": {
          "base_uri": "https://localhost:8080/"
        }
      },
      "execution_count": 43,
      "outputs": [
        {
          "output_type": "stream",
          "name": "stdout",
          "text": [
            "<class 'list'>\n"
          ]
        }
      ]
    },
    {
      "cell_type": "code",
      "source": [
        "#The first Code Cell you ran imports a module called matplotlib. In a new Code Cell, use matplotlib to make a histogram of data1. You can use the syntax plt.hist() to do this (remember that the variable you are applying the function to goes inside of the parentheses).\n",
        "data1 = [-57.68096993, -75.60838509, -72.85335626, -63.32231649, -69.17668438, -70.06443787, -74.9114346, -62.62293472, -72.89628315, -69.02269516, -70.22181625, -78.64493513, -61.94495392]\n",
        "plt.hist(data1)"
      ],
      "metadata": {
        "id": "oPnNkCqRc2z2",
        "outputId": "2373642c-ed37-414e-ba1f-e7a60a000ec7",
        "colab": {
          "base_uri": "https://localhost:8080/",
          "height": 354
        }
      },
      "execution_count": 51,
      "outputs": [
        {
          "output_type": "execute_result",
          "data": {
            "text/plain": [
              "(array([1., 2., 2., 0., 4., 0., 0., 3., 0., 1.]),\n",
              " array([-78.64493513, -76.54853861, -74.45214209, -72.35574557,\n",
              "        -70.25934905, -68.16295253, -66.06655601, -63.97015949,\n",
              "        -61.87376297, -59.77736645, -57.68096993]),\n",
              " <a list of 10 Patch objects>)"
            ]
          },
          "metadata": {},
          "execution_count": 51
        },
        {
          "output_type": "display_data",
          "data": {
            "text/plain": [
              "<Figure size 432x288 with 1 Axes>"
            ],
            "image/png": "[encoded data removed]"
          },
          "metadata": {
            "needs_background": "light"
          }
        }
      ]
    },
    {
      "cell_type": "code",
      "source": [
        "#In a new Code Cell, re-make your histogram and use the plt.xlabel() and plt.ylabel() functions to label your axes.\n",
        "plt.hist(data1)\n",
        "plt.xlabel('charge (Hz)')\n",
        "plt.ylabel('time (ms)')"
      ],
      "metadata": {
        "id": "xIiKOmfFdun7",
        "outputId": "f3ca5fb5-0aa8-4dcc-e971-1479719c4797",
        "colab": {
          "base_uri": "https://localhost:8080/",
          "height": 297
        }
      },
      "execution_count": 53,
      "outputs": [
        {
          "output_type": "execute_result",
          "data": {
            "text/plain": [
              "Text(0, 0.5, 'time(ms)')"
            ]
          },
          "metadata": {},
          "execution_count": 53
        },
        {
          "output_type": "display_data",
          "data": {
            "text/plain": [
              "<Figure size 432x288 with 1 Axes>"
            ],
            "image/png": "[encoded data removed]"
          },
          "metadata": {
            "needs_background": "light"
          }
        }
      ]
    },
    {
      "cell_type": "code",
      "source": [
        "#In a new Code Cell, follow the instructions in steps 11 and 12 to make another histogram with axis labels for data2.\n",
        "data2 = [-73.6365153, -51.51250197, -71.96876467, -71.22892422, -68.24658585, -80.80000814, -68.83694058, -73.38759257, -70.10368432, -65.16629601, -70.8324037, -71.87479225, -76.59444523]\n",
        "plt.hist(data2)\n",
        "plt.xlabel('charge (Hz)')\n",
        "plt.ylabel('time (ms)')"
      ],
      "metadata": {
        "id": "U4r4kdNNeL8P",
        "outputId": "e8134be8-c7ba-453c-c25f-7cc333bfebbc",
        "colab": {
          "base_uri": "https://localhost:8080/",
          "height": 297
        }
      },
      "execution_count": 54,
      "outputs": [
        {
          "output_type": "execute_result",
          "data": {
            "text/plain": [
              "Text(0, 0.5, 'time (ms)')"
            ]
          },
          "metadata": {},
          "execution_count": 54
        },
        {
          "output_type": "display_data",
          "data": {
            "text/plain": [
              "<Figure size 432x288 with 1 Axes>"
            ],
            "image/png": "[encoded data removed]"
          },
          "metadata": {
            "needs_background": "light"
          }
        }
      ]
    },
    {
      "cell_type": "markdown",
      "source": [
        "In a new Markdown Cell, write a brief description of any differences that you observe between your two histograms. Does one group of cells seem to have a higher/lower resting membrane potential than the other group of cells?\n",
        "\n",
        "Both data 1 and data 2 histograms have relatively the same range of data but are distributed differently. The data 1 histogram has more gaps in the distribution whereas data 2 represents more of a bell curve. Both sets of data seem to have similar resting membrane potentials as they both have a peak around -70."
      ],
      "metadata": {
        "id": "eYltWUWxfmk_"
      }
    },
    {
      "cell_type": "code",
      "source": [
        "#In a new Code Cell, create a new variable called data3. Let data3 be a list containing both data1 and data2.\n",
        "lst3 = [-57.68096993, -75.60838509, -72.85335626, -63.32231649, -69.17668438, -70.06443787, -74.9114346, -62.62293472, -72.89628315, -69.02269516, -70.22181625, -78.64493513, -61.94495392, -73.6365153, -51.51250197, -71.96876467, -71.22892422, -68.24658585, -80.80000814, -68.83694058, -73.38759257, -70.10368432, -65.16629601, -70.8324037, -71.87479225, -76.59444523]\n",
        "data3 = lst3\n",
        "print(data3)\n"
      ],
      "metadata": {
        "id": "1U6p6z7kirzW",
        "outputId": "1bef8403-b5a4-431d-dace-043a75f036f9",
        "colab": {
          "base_uri": "https://localhost:8080/"
        }
      },
      "execution_count": 9,
      "outputs": [
        {
          "output_type": "stream",
          "name": "stdout",
          "text": [
            "[-57.68096993, -75.60838509, -72.85335626, -63.32231649, -69.17668438, -70.06443787, -74.9114346, -62.62293472, -72.89628315, -69.02269516, -70.22181625, -78.64493513, -61.94495392, -73.6365153, -51.51250197, -71.96876467, -71.22892422, -68.24658585, -80.80000814, -68.83694058, -73.38759257, -70.10368432, -65.16629601, -70.8324037, -71.87479225, -76.59444523]\n"
          ]
        }
      ]
    },
    {
      "cell_type": "code",
      "source": [
        "#Make a Code Cell that prints the last element of data2. You must index data3 to do this (hint: we covered this in our in-class coding activity on February 1st).\n",
        "data3[-1]"
      ],
      "metadata": {
        "id": "9T4J0ygQ_DX3",
        "outputId": "b620d1e2-755c-4961-adab-ff69e80b29d8",
        "colab": {
          "base_uri": "https://localhost:8080/"
        }
      },
      "execution_count": 10,
      "outputs": [
        {
          "output_type": "execute_result",
          "data": {
            "text/plain": [
              "-76.59444523"
            ]
          },
          "metadata": {},
          "execution_count": 10
        }
      ]
    }
  ]
}