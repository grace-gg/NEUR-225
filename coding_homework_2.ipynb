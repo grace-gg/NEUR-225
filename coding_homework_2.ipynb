{
  "nbformat": 4,
  "nbformat_minor": 0,
  "metadata": {
    "colab": {
      "provenance": [],
      "include_colab_link": true
    },
    "kernelspec": {
      "name": "python3",
      "display_name": "Python 3"
    },
    "language_info": {
      "name": "python"
    }
  },
  "cells": [
    {
      "cell_type": "markdown",
      "metadata": {
        "id": "view-in-github",
        "colab_type": "text"
      },
      "source": [
        "<a href=\"https://colab.research.google.com/github/grace-gg/neur-225/blob/main/coding_homework_2.ipynb\" target=\"_parent\"><img src=\"https://colab.research.google.com/assets/colab-badge.svg\" alt=\"Open In Colab\"/></a>"
      ]
    },
    {
      "cell_type": "markdown",
      "source": [
        "# Coding Homework #2\n",
        "\n",
        "**Instructions:**\n",
        "\n",
        "1. Make a *Markdown Cell* that contains the following information:\n",
        "- Your name (small header)\n",
        "- The name of this class (italicized)\n",
        "- The date (bolded)\n",
        "\n",
        "2. Make a *Code Cell* that imports <code>numpy</code> as <code>np</code>, <code>matplotlib.pyplot</code> as <code>plt</code>, <code>statistics</code> as <code>st</code>.\n",
        "\n",
        "3. Make a *Code Cell* that imports your <code>v_rest1.csv</code> and <code>v_rest2.csv</code> files as <code>numpy</code> arrays called <code>v_rest1</code> and <code>v_rest2</code> respectively. You're used to doing this with the <code>pd.read_csv</code> function for <code>pandas</code>, but can accomplish the same thing using the <code>np.loadtxt</code> function for <code>numpy</code>.\n",
        "\n",
        "4. Make a *Code Cell* that concatenates <code>v_rest1</code> and <code>v_rest2</code> into a matrix with 2 rows and 13 columns named <code>v_rest</code>.\n",
        "\n",
        "5. Make a *Code Cell* that prints the <code>size</code> of <code>v_rest</code>.\n",
        "\n",
        "6. Make a *Code Cell* that returns the first row of <code>v_rest</code>.\n",
        "\n",
        "7. Make a *Code Cell* that returns the sum of the values in the third column of <code>v_rest</code>. You can accomplish this by using <code>v_rest[].sum()</code>, with your index inside of the brackets. As an example, if I wanted to return the sum of the first row of <code>v_rest</code>, I could use <code>v_rest[0].sum()</code> to get my answer.\n",
        "\n",
        "8. Make a *Code Cell* that returns the second-to-last value in the second row of <code>v_rest</code> (use negative indexing for the column value).\n",
        "\n",
        "9. Create a *Code Cell* that makes a histogram of the values in the first row of <code>v_rest</code> (you can do this by using the <code>plt.hist()</code> function). Label your axes.\n",
        "\n",
        "10. Create a *Code Cell* that takes the mean of the values in the first row of <code>v_rest</code>, and assigns the mean to a variable called <code>v_rest_mean_1</code>. Do the same thing for the second row of <code>v_rest</code>, and assign the mean value of the second row to a variable called <code>v_rest_mean_2</code>. You can get the means by using the <code>st.mean()</code> function (remember to put what you want the mean *of* inside the parentheses of the function).\n",
        "\n",
        "11. Create a *Markdown Cell* that describes the difference in means between the two rows. Which one is bigger?\n",
        "\n",
        "12. How can we test whether the difference in means is *meaningful* (statistically significant)? When we're comparing two means, we can use a t-test (assuming the data are normally distributed). To use a t-test on our data, we will first need to import the <code>scipy</code> package. Create a new *Code Cell* that runs the following:\n",
        "\n",
        "<code>\n",
        "import scipy.stats as stats\n",
        "</code>\n",
        "\n",
        "13. Now, we can perform a t-test on the two rows of <code>v_rest</code>. To do this, create a new *Code Cell* that uses the <code>stats.ttest_ind()</code> function - for example:\n",
        "\n",
        "<code>\n",
        "stats.ttest_ind(row1, row2)\n",
        "</code>\n",
        "\n",
        "Replace <code>row1</code> and <code>row2</code> in this case with the first and second rows, respectively, of <code>v_rest</code>.\n",
        "\n",
        "14. Make a *Markdown Cell* that describes the results of your t-test. You should have <code>statistic</code> variable and a <code>pvalue</code> variable. The way to interpret your p-value is as a probability - specifically, the probability that the mean of one distribution could be found in the second distribution. Typically, results are considered to be \"statistically significant\" if the probability is lower than 5% - or 0.05. What is your p-value? Based on this p-value, do you think it is likely that the means are significantly different, or do you think it is likely that they are not?\n",
        "\n",
        "15. Make sure to add at least one line with a <code>#</code> in front of it to each *Code Cell* to describe what each cell does.\n",
        "\n",
        "16. Save a copy of this notebook to your GitHub repo with the title \"coding_homework_2.ipynb\"."
      ],
      "metadata": {
        "id": "CXEcCBSA_prs"
      }
    },
    {
      "cell_type": "markdown",
      "source": [
        "###Grace Gallagher\n",
        "*   *Intro to Neural Data Analysis*\n",
        "*   **February 24th, 2023**\n",
        "\n",
        "\n"
      ],
      "metadata": {
        "id": "3kByXGvTaOIV"
      }
    },
    {
      "cell_type": "code",
      "source": [
        "#imports numpy as np, matplotlib.pyplot as plt, statistics as st.\n",
        "import numpy as np\n",
        "import matplotlib.pyplot as plt\n",
        "import statistics as st"
      ],
      "metadata": {
        "id": "CuVwFArOaiKX"
      },
      "execution_count": 41,
      "outputs": []
    },
    {
      "cell_type": "code",
      "source": [
        "#imports v_rest1.csv and v_rest2.csv files as numpy arrays called v_rest1 and v_rest2\n",
        "v_rest1 = np.loadtxt('https://raw.githubusercontent.com/grace-gg/neur-225/main/vrest_1.csv')\n",
        "print(v_rest1)\n",
        "v_rest2 = np.loadtxt('https://raw.githubusercontent.com/grace-gg/neur-225/main/vrest_2.csv')\n",
        "print(v_rest2)\n"
      ],
      "metadata": {
        "id": "cea_DiYJa4MO",
        "outputId": "119148e6-d9b1-4560-ad49-f2403ee79423",
        "colab": {
          "base_uri": "https://localhost:8080/"
        }
      },
      "execution_count": 42,
      "outputs": [
        {
          "output_type": "stream",
          "name": "stdout",
          "text": [
            "[-57.68096993 -75.60838509 -72.85335626 -63.32231649 -69.17668438\n",
            " -70.06443787 -74.9114346  -62.62293472 -72.89628315 -69.02269516\n",
            " -70.22181625 -78.64493513 -61.94495392]\n",
            "[-73.6365153  -51.51250197 -71.96876467 -71.22892422 -68.24658585\n",
            " -80.80000814 -68.83694058 -73.38759257 -70.10368432 -65.16629601\n",
            " -70.8324037  -71.87479225 -76.59444523]\n"
          ]
        }
      ]
    },
    {
      "cell_type": "code",
      "source": [
        "#v_rest1 and v_rest2 into a matrix with 2 rows and 13 columns named v_rest\n",
        "v_rest = np.array([v_rest1,v_rest2])\n",
        "print(v_rest)"
      ],
      "metadata": {
        "id": "1bVk2fKWbQvB",
        "outputId": "2d998cb8-6b5a-4c93-abd9-9ba6977a0496",
        "colab": {
          "base_uri": "https://localhost:8080/"
        }
      },
      "execution_count": 43,
      "outputs": [
        {
          "output_type": "stream",
          "name": "stdout",
          "text": [
            "[[-57.68096993 -75.60838509 -72.85335626 -63.32231649 -69.17668438\n",
            "  -70.06443787 -74.9114346  -62.62293472 -72.89628315 -69.02269516\n",
            "  -70.22181625 -78.64493513 -61.94495392]\n",
            " [-73.6365153  -51.51250197 -71.96876467 -71.22892422 -68.24658585\n",
            "  -80.80000814 -68.83694058 -73.38759257 -70.10368432 -65.16629601\n",
            "  -70.8324037  -71.87479225 -76.59444523]]\n"
          ]
        }
      ]
    },
    {
      "cell_type": "code",
      "source": [
        "#prints the size of v_rest\n",
        "print(v_rest.size)"
      ],
      "metadata": {
        "id": "OTfgEUHYbZ9J",
        "outputId": "9fa9513a-2f81-4a2d-db29-0198fea6a45f",
        "colab": {
          "base_uri": "https://localhost:8080/"
        }
      },
      "execution_count": 44,
      "outputs": [
        {
          "output_type": "stream",
          "name": "stdout",
          "text": [
            "26\n"
          ]
        }
      ]
    },
    {
      "cell_type": "code",
      "source": [
        "#returns the first row of v_rest.\n",
        "v_rest[0]"
      ],
      "metadata": {
        "id": "Dk25UY17b9YU",
        "outputId": "1927ea34-5809-47d7-d033-37a92bbb3055",
        "colab": {
          "base_uri": "https://localhost:8080/"
        }
      },
      "execution_count": 45,
      "outputs": [
        {
          "output_type": "execute_result",
          "data": {
            "text/plain": [
              "array([-57.68096993, -75.60838509, -72.85335626, -63.32231649,\n",
              "       -69.17668438, -70.06443787, -74.9114346 , -62.62293472,\n",
              "       -72.89628315, -69.02269516, -70.22181625, -78.64493513,\n",
              "       -61.94495392])"
            ]
          },
          "metadata": {},
          "execution_count": 45
        }
      ]
    },
    {
      "cell_type": "code",
      "source": [
        "#returns the sum of the values in the third column of v_rest\n",
        "v_rest[:,2].sum()"
      ],
      "metadata": {
        "id": "zQo9B8GwcKkD",
        "outputId": "2055b30b-608e-4ad0-bcbb-fb8058380693",
        "colab": {
          "base_uri": "https://localhost:8080/"
        }
      },
      "execution_count": 46,
      "outputs": [
        {
          "output_type": "execute_result",
          "data": {
            "text/plain": [
              "-144.82212092999998"
            ]
          },
          "metadata": {},
          "execution_count": 46
        }
      ]
    },
    {
      "cell_type": "code",
      "source": [
        "#returns the second-to-last value in the second row of v_rest\n",
        "print(v_rest[1][-2])"
      ],
      "metadata": {
        "id": "FQP3PGfnfrtF",
        "outputId": "4da90267-c172-4cff-dcb1-c5111cc40917",
        "colab": {
          "base_uri": "https://localhost:8080/"
        }
      },
      "execution_count": 47,
      "outputs": [
        {
          "output_type": "stream",
          "name": "stdout",
          "text": [
            "-71.87479225\n"
          ]
        }
      ]
    },
    {
      "cell_type": "code",
      "source": [
        "#makes a histogram of the values in the first row of v_rest\n",
        "plt.hist(v_rest[0])\n",
        "plt.xlabel('resting membrane potential')\n",
        "plt.ylabel('counts')\n",
        "plt.show()"
      ],
      "metadata": {
        "id": "jc9c78rVgTS6",
        "outputId": "e416f8a7-1efd-47b0-cecd-ca12a78446bf",
        "colab": {
          "base_uri": "https://localhost:8080/",
          "height": 279
        }
      },
      "execution_count": 50,
      "outputs": [
        {
          "output_type": "display_data",
          "data": {
            "text/plain": [
              "<Figure size 432x288 with 1 Axes>"
            ],
            "image/png": "[encoded data removed]"
          },
          "metadata": {
            "needs_background": "light"
          }
        }
      ]
    },
    {
      "cell_type": "code",
      "source": [
        "#find mean of the values in the first row of v_rest and assign the mean to the variable  v_rest_mean_1. Do the same thing for the second row of v_rest and assign the mean of the second row to the variable v_rest_mean_2\n",
        "v_rest_mean_1 = st.mean(v_rest[0])\n",
        "print(v_rest_mean_1)\n",
        "v_rest_mean_2 = st.mean(v_rest[1])\n",
        "print(v_rest_mean_2)"
      ],
      "metadata": {
        "id": "xs5QEx38msPw",
        "outputId": "d5f3ea95-1c33-4a8d-c6ad-662f16e63ae7",
        "colab": {
          "base_uri": "https://localhost:8080/"
        }
      },
      "execution_count": 56,
      "outputs": [
        {
          "output_type": "stream",
          "name": "stdout",
          "text": [
            "-69.15163099615384\n",
            "-70.32226575461539\n"
          ]
        }
      ]
    },
    {
      "cell_type": "markdown",
      "source": [
        "The mean of the first row of data is slightly smaller than the mean of the second row of data. This means that the data in the first row has an overall quicker resting membrane potential than the data in the second row."
      ],
      "metadata": {
        "id": "oF2y9ppdn3m4"
      }
    },
    {
      "cell_type": "code",
      "source": [
        "#import the scipy package to make a t-test on our data\n",
        "import scipy.stats as stats"
      ],
      "metadata": {
        "id": "BI780V3RoNRX"
      },
      "execution_count": 58,
      "outputs": []
    },
    {
      "cell_type": "code",
      "source": [
        "#perform a t-test on the two rows of v_rest using the stats.ttest_ind() function\n",
        "stats.ttest_ind(v_rest[0], v_rest[1])"
      ],
      "metadata": {
        "id": "xiomHIsloXXL",
        "outputId": "a8317f8a-7913-4783-85db-656bdba9d4a1",
        "colab": {
          "base_uri": "https://localhost:8080/"
        }
      },
      "execution_count": 59,
      "outputs": [
        {
          "output_type": "execute_result",
          "data": {
            "text/plain": [
              "Ttest_indResult(statistic=0.4583732989384172, pvalue=0.6508079239660194)"
            ]
          },
          "metadata": {},
          "execution_count": 59
        }
      ]
    },
    {
      "cell_type": "markdown",
      "source": [
        "The t-test that was done to compare the data from row 1 and row 2 had a statistic variable of 0.46 and a pvalue variable of 0.65. Because the pvalue is greater than 0.05, it is likely that the results are no statistically significant. Thus, the results are not statistically different. I think it is not likely that the means are significantly different based on this pvalue because it is much greater than 0.05 and the mean values themselves are very similar values."
      ],
      "metadata": {
        "id": "AjzZkveeooJZ"
      }
    }
  ]
}